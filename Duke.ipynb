{
 "cells": [
  {
   "cell_type": "markdown",
   "metadata": {},
   "source": [
    "#WattSage: Energy Oracle Pro\n",
    "\n",
    "##Here we are importing libraries and loading our data set.\n"
   ]
  },
  {
   "cell_type": "code",
   "execution_count": null,
   "metadata": {},
   "outputs": [],
   "source": [
    "# Import necessary libraries\n",
    "import pandas as pd\n",
    "import matplotlib.pyplot as plt\n",
    "from sklearn.model_selection import train_test_split\n",
    "from sklearn.linear_model import LinearRegression\n",
    "from sklearn.metrics import mean_absolute_error, mean_squared_error\n",
    "from sklearn.ensemble import RandomForestRegressor\n",
    "import numpy as np\n",
    "import seaborn as sns\n",
    "\n",
    "# Load the dataset\n",
    "data = pd.read_csv('/Users/vanessa/Documents/CCPP_data.csv')\n"
   ]
  },
  {
   "cell_type": "markdown",
   "metadata": {},
   "source": [
    "###Here we split the data and train the Linear and Random Forest Regression Models"
   ]
  },
  {
   "cell_type": "code",
   "execution_count": null,
   "metadata": {},
   "outputs": [],
   "source": [
    "\n",
    "# Split data into features (X) and target (y)\n",
    "X = data.drop(columns=['PE'])  # Use all features except 'PE'\n",
    "y = data['PE']  # Target variable\n",
    "\n",
    "# Split data into train and test sets\n",
    "X_train, X_test, y_train, y_test = train_test_split(X, y, test_size=0.2, random_state=42)\n",
    "\n",
    "# Initialize and train a Linear Regression model\n",
    "model_lr = LinearRegression()\n",
    "model_lr.fit(X_train, y_train)\n",
    "\n",
    "# Make predictions on the test set\n",
    "y_pred_lr = model_lr.predict(X_test)\n",
    "\n",
    "# Calculate Mean Absolute Error and RMSE for evaluation\n",
    "mae_lr = mean_absolute_error(y_test, y_pred_lr)\n",
    "rmse_lr = mean_squared_error(y_test, y_pred_lr, squared=False)\n",
    "\n",
    "# Print Linear Regression results\n",
    "print(\"Linear Regression:\")\n",
    "print(f\"Mean Absolute Error: {mae_lr:.2f}\")\n",
    "print(f\"Root Mean Squared Error: {rmse_lr:.2f}\")\n",
    "\n",
    "# Initialize and train a Random Forest Regression model\n",
    "model_rf = RandomForestRegressor(n_estimators=100, random_state=42)\n",
    "model_rf.fit(X_train, y_train)\n",
    "\n",
    "# Make predictions on the test set\n",
    "y_pred_rf = model_rf.predict(X_test)\n",
    "\n",
    "# Calculate Mean Absolute Error and RMSE for evaluation\n",
    "mae_rf = mean_absolute_error(y_test, y_pred_rf)\n",
    "rmse_rf = np.sqrt(mean_squared_error(y_test, y_pred_rf))\n",
    "\n",
    "# Print Random Forest Regression results\n",
    "print(\"\\nRandom Forest Regression:\")\n",
    "print(f\"Mean Absolute Error: {mae_rf:.2f}\")\n",
    "print(f\"Root Mean Squared Error: {rmse_rf:.2f}\")\n",
    "\n"
   ]
  },
  {
   "cell_type": "markdown",
   "metadata": {},
   "source": [
    "###Here we analyze the data grapichally."
   ]
  },
  {
   "cell_type": "code",
   "execution_count": null,
   "metadata": {},
   "outputs": [],
   "source": [
    "# Data exploration and visualization\n",
    "\n",
    "# Create a pairplot to visualize relationships between features and the target variable\n",
    "sns.pairplot(data, x_vars=['AT', 'V', 'AP', 'RH'], y_vars='PE', kind='reg')\n",
    "plt.title('Pairplot of Features vs. Electrical Energy Output')\n",
    "plt.show()\n",
    "\n",
    "# Create a heatmap to visualize correlations between features\n",
    "correlation_matrix = data[['AT', 'V', 'AP', 'RH', 'PE']].corr()\n",
    "plt.figure(figsize=(8, 6))\n",
    "sns.heatmap(correlation_matrix, annot=True, cmap='coolwarm')\n",
    "plt.title('Correlation Heatmap')\n",
    "plt.show()\n",
    "\n",
    "# Create a bar plot to show the distribution of the target variable\n",
    "plt.figure(figsize=(8, 6))\n",
    "sns.histplot(data['PE'], bins=20, kde=True)\n",
    "plt.title('Distribution of Electrical Energy Output (PE)')\n",
    "plt.xlabel('Electrical Energy Output (PE)')\n",
    "plt.ylabel('Frequency')\n",
    "plt.show()\n",
    "\n",
    "# Create a scatter plot to visualize the relationship between a feature and the target variable\n",
    "plt.figure(figsize=(8, 6))\n",
    "sns.scatterplot(x='AT', y='PE', data=data, alpha=0.7)\n",
    "plt.title('Scatter Plot: Temperature vs. Electrical Energy Output')\n",
    "plt.xlabel('Temperature')\n",
    "plt.ylabel('Electrical Energy Output (PE)')\n",
    "plt.show()\n"
   ]
  }
 ],
 "metadata": {
  "kernelspec": {
   "display_name": "Python 3 (ipykernel)",
   "language": "python",
   "name": "python3"
  },
  "language_info": {
   "codemirror_mode": {
    "name": "ipython",
    "version": 3
   },
   "file_extension": ".py",
   "mimetype": "text/x-python",
   "name": "python",
   "nbconvert_exporter": "python",
   "pygments_lexer": "ipython3",
   "version": "3.11.4"
  }
 },
 "nbformat": 4,
 "nbformat_minor": 2
}
